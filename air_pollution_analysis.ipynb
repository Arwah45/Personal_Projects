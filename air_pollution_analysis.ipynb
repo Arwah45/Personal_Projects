{
  "nbformat": 4,
  "nbformat_minor": 0,
  "metadata": {
    "colab": {
      "provenance": [],
      "authorship_tag": "ABX9TyPjjIG8pukqNMCkwxU7GuKE",
      "include_colab_link": true
    },
    "kernelspec": {
      "name": "python3",
      "display_name": "Python 3"
    },
    "language_info": {
      "name": "python"
    }
  },
  "cells": [
    {
      "cell_type": "markdown",
      "metadata": {
        "id": "view-in-github",
        "colab_type": "text"
      },
      "source": [
        "<a href=\"https://colab.research.google.com/github/Arwah45/Personal_Projects/blob/main/air_pollution_analysis.ipynb\" target=\"_parent\"><img src=\"https://colab.research.google.com/assets/colab-badge.svg\" alt=\"Open In Colab\"/></a>"
      ]
    },
    {
      "cell_type": "code",
      "execution_count": null,
      "metadata": {
        "id": "KHlEhfl7zxm1"
      },
      "outputs": [],
      "source": [
        "import pandas as pd\n",
        "from sklearn.model_selection import train_test_split\n",
        "from sklearn.linear_model import LinearRegression\n",
        "from sklearn.metrics import mean_squared_error"
      ]
    },
    {
      "cell_type": "code",
      "source": [
        "temp_df = pd.read_csv(\"temperature.csv\")\n",
        "humidity_df = pd.read_csv(\"humidity.csv\")\n",
        "co_df = pd.read_csv(\"CO.csv\")\n",
        "alcohol_df = pd.read_csv(\"alcohol.csv\")\n",
        "smoke_df = pd.read_csv(\"smoke.csv\")"
      ],
      "metadata": {
        "id": "ZyJTTjZY0OHf"
      },
      "execution_count": null,
      "outputs": []
    },
    {
      "cell_type": "code",
      "source": [
        "# Filter data based on feed_id\n",
        "temperature_df = merged_df[merged_df['feed_id'] == 2783700]\n",
        "humidity_df = merged_df[merged_df['feed_id'] == 2783702]\n",
        "co_df = merged_df[merged_df['feed_id'] == 2783705]\n",
        "alcohol_df = merged_df[merged_df['feed_id'] == 2783703]\n",
        "smoke_df = merged_df[merged_df['feed_id'] == 2783704]"
      ],
      "metadata": {
        "id": "EQh8nUr8419X"
      },
      "execution_count": null,
      "outputs": []
    },
    {
      "cell_type": "code",
      "source": [
        "merged_df = (\n",
        "    temperature_df.merge(humidity_df, on=\"created_at\", suffixes=(\"_temp\", \"_humidity\"))\n",
        "    .merge(co_df, on=\"created_at\", suffixes=(\"_humidity_co\", \"_co\"))\n",
        "    .merge(alcohol_df, on=\"created_at\", suffixes=(\"_co_alcohol\", \"_alcohol\"))\n",
        "    .merge(smoke_df, on=\"created_at\", suffixes=(\"_alcohol_smoke\", \"_smoke\"))\n",
        ")"
      ],
      "metadata": {
        "id": "d2i0IafwGPkQ"
      },
      "execution_count": null,
      "outputs": []
    },
    {
      "cell_type": "code",
      "source": [
        "# Create a sample DataFrame\n",
        "data = {\n",
        "    \"created_at\": [\"2023-04-01\", \"2023-04-02\", \"2023-04-03\"],\n",
        "    \"id_temp\": [1, 2, 3],\n",
        "    \"value_temp\": [20, 22, 24],\n",
        "    \"id_humidity\": [4, 5, 6],\n",
        "    \"value_humidity\": [50, 60, 70],\n",
        "}\n",
        "merged_df = pd.DataFrame(data)\n"
      ],
      "metadata": {
        "id": "K7ymN9OgGlGN"
      },
      "execution_count": null,
      "outputs": []
    },
    {
      "cell_type": "code",
      "source": [
        "# Drop the specified columns\n",
        "columns_to_drop = [\n",
        "    \"created_at\",\n",
        "    \"id_temp\",\n",
        "    \"id_humidity\",\n",
        "]\n"
      ],
      "metadata": {
        "id": "pM9QgiTEGm19"
      },
      "execution_count": null,
      "outputs": []
    },
    {
      "cell_type": "markdown",
      "source": [],
      "metadata": {
        "id": "G4P8VT7jIjVe"
      }
    },
    {
      "cell_type": "code",
      "source": [
        "X = merged_df.drop(columns=columns_to_drop)\n"
      ],
      "metadata": {
        "id": "nu6EkOrcGpq_"
      },
      "execution_count": null,
      "outputs": []
    },
    {
      "cell_type": "code",
      "source": [
        "print(merged_df.columns)"
      ],
      "metadata": {
        "colab": {
          "base_uri": "https://localhost:8080/"
        },
        "id": "ySnvLiWVJV_C",
        "outputId": "6e060f37-969e-4a0c-aa49-db902cc7537d"
      },
      "execution_count": null,
      "outputs": [
        {
          "output_type": "stream",
          "name": "stdout",
          "text": [
            "Index(['created_at', 'id_temp', 'value_temp', 'id_humidity', 'value_humidity'], dtype='object')\n"
          ]
        }
      ]
    },
    {
      "cell_type": "code",
      "source": [
        "# Define target variable\n",
        "y =[[\"value_temp\", \"value_humidity\"]]\n"
      ],
      "metadata": {
        "id": "QTX5CgJ-KfSm"
      },
      "execution_count": null,
      "outputs": []
    },
    {
      "cell_type": "code",
      "source": [
        "X_train, X_test, y_train, y_test = train_test_split(X, y, test_size=0.2, random_state=42)\n"
      ],
      "metadata": {
        "id": "B1Orw-dgKuBl"
      },
      "execution_count": null,
      "outputs": []
    },
    {
      "cell_type": "code",
      "source": [
        "model = LinearRegression()\n",
        "model.fit(X_train, y_train)"
      ],
      "metadata": {
        "colab": {
          "base_uri": "https://localhost:8080/",
          "height": 74
        },
        "id": "RpC9LDvKKx9W",
        "outputId": "a8f3ad63-9d3e-4a81-bf74-6a82878b278f"
      },
      "execution_count": null,
      "outputs": [
        {
          "output_type": "execute_result",
          "data": {
            "text/plain": [
              "LinearRegression()"
            ],
            "text/html": [
              "<style>#sk-container-id-1 {color: black;background-color: white;}#sk-container-id-1 pre{padding: 0;}#sk-container-id-1 div.sk-toggleable {background-color: white;}#sk-container-id-1 label.sk-toggleable__label {cursor: pointer;display: block;width: 100%;margin-bottom: 0;padding: 0.3em;box-sizing: border-box;text-align: center;}#sk-container-id-1 label.sk-toggleable__label-arrow:before {content: \"▸\";float: left;margin-right: 0.25em;color: #696969;}#sk-container-id-1 label.sk-toggleable__label-arrow:hover:before {color: black;}#sk-container-id-1 div.sk-estimator:hover label.sk-toggleable__label-arrow:before {color: black;}#sk-container-id-1 div.sk-toggleable__content {max-height: 0;max-width: 0;overflow: hidden;text-align: left;background-color: #f0f8ff;}#sk-container-id-1 div.sk-toggleable__content pre {margin: 0.2em;color: black;border-radius: 0.25em;background-color: #f0f8ff;}#sk-container-id-1 input.sk-toggleable__control:checked~div.sk-toggleable__content {max-height: 200px;max-width: 100%;overflow: auto;}#sk-container-id-1 input.sk-toggleable__control:checked~label.sk-toggleable__label-arrow:before {content: \"▾\";}#sk-container-id-1 div.sk-estimator input.sk-toggleable__control:checked~label.sk-toggleable__label {background-color: #d4ebff;}#sk-container-id-1 div.sk-label input.sk-toggleable__control:checked~label.sk-toggleable__label {background-color: #d4ebff;}#sk-container-id-1 input.sk-hidden--visually {border: 0;clip: rect(1px 1px 1px 1px);clip: rect(1px, 1px, 1px, 1px);height: 1px;margin: -1px;overflow: hidden;padding: 0;position: absolute;width: 1px;}#sk-container-id-1 div.sk-estimator {font-family: monospace;background-color: #f0f8ff;border: 1px dotted black;border-radius: 0.25em;box-sizing: border-box;margin-bottom: 0.5em;}#sk-container-id-1 div.sk-estimator:hover {background-color: #d4ebff;}#sk-container-id-1 div.sk-parallel-item::after {content: \"\";width: 100%;border-bottom: 1px solid gray;flex-grow: 1;}#sk-container-id-1 div.sk-label:hover label.sk-toggleable__label {background-color: #d4ebff;}#sk-container-id-1 div.sk-serial::before {content: \"\";position: absolute;border-left: 1px solid gray;box-sizing: border-box;top: 0;bottom: 0;left: 50%;z-index: 0;}#sk-container-id-1 div.sk-serial {display: flex;flex-direction: column;align-items: center;background-color: white;padding-right: 0.2em;padding-left: 0.2em;position: relative;}#sk-container-id-1 div.sk-item {position: relative;z-index: 1;}#sk-container-id-1 div.sk-parallel {display: flex;align-items: stretch;justify-content: center;background-color: white;position: relative;}#sk-container-id-1 div.sk-item::before, #sk-container-id-1 div.sk-parallel-item::before {content: \"\";position: absolute;border-left: 1px solid gray;box-sizing: border-box;top: 0;bottom: 0;left: 50%;z-index: -1;}#sk-container-id-1 div.sk-parallel-item {display: flex;flex-direction: column;z-index: 1;position: relative;background-color: white;}#sk-container-id-1 div.sk-parallel-item:first-child::after {align-self: flex-end;width: 50%;}#sk-container-id-1 div.sk-parallel-item:last-child::after {align-self: flex-start;width: 50%;}#sk-container-id-1 div.sk-parallel-item:only-child::after {width: 0;}#sk-container-id-1 div.sk-dashed-wrapped {border: 1px dashed gray;margin: 0 0.4em 0.5em 0.4em;box-sizing: border-box;padding-bottom: 0.4em;background-color: white;}#sk-container-id-1 div.sk-label label {font-family: monospace;font-weight: bold;display: inline-block;line-height: 1.2em;}#sk-container-id-1 div.sk-label-container {text-align: center;}#sk-container-id-1 div.sk-container {/* jupyter's `normalize.less` sets `[hidden] { display: none; }` but bootstrap.min.css set `[hidden] { display: none !important; }` so we also need the `!important` here to be able to override the default hidden behavior on the sphinx rendered scikit-learn.org. See: https://github.com/scikit-learn/scikit-learn/issues/21755 */display: inline-block !important;position: relative;}#sk-container-id-1 div.sk-text-repr-fallback {display: none;}</style><div id=\"sk-container-id-1\" class=\"sk-top-container\"><div class=\"sk-text-repr-fallback\"><pre>LinearRegression()</pre><b>In a Jupyter environment, please rerun this cell to show the HTML representation or trust the notebook. <br />On GitHub, the HTML representation is unable to render, please try loading this page with nbviewer.org.</b></div><div class=\"sk-container\" hidden><div class=\"sk-item\"><div class=\"sk-estimator sk-toggleable\"><input class=\"sk-toggleable__control sk-hidden--visually\" id=\"sk-estimator-id-1\" type=\"checkbox\" checked><label for=\"sk-estimator-id-1\" class=\"sk-toggleable__label sk-toggleable__label-arrow\">LinearRegression</label><div class=\"sk-toggleable__content\"><pre>LinearRegression()</pre></div></div></div></div></div>"
            ]
          },
          "metadata": {},
          "execution_count": 38
        }
      ]
    },
    {
      "cell_type": "code",
      "source": [
        "# Predict on test set\n",
        "y_pred = model.predict(X_test)\n"
      ],
      "metadata": {
        "id": "ZgFMkbDjK1Yf"
      },
      "execution_count": null,
      "outputs": []
    },
    {
      "cell_type": "code",
      "source": [
        "# Evaluate model\n",
        "mse = mean_squared_error(y_test, y_pred)\n",
        "print(\"Mean Squared Error:\", mse)"
      ],
      "metadata": {
        "colab": {
          "base_uri": "https://localhost:8080/"
        },
        "id": "Ar_X3MPIK6CM",
        "outputId": "61e43c69-d2d6-4e77-c104-6494dc23cc95"
      },
      "execution_count": null,
      "outputs": [
        {
          "output_type": "stream",
          "name": "stdout",
          "text": [
            "Mean Squared Error: 1.0097419586828951e-28\n"
          ]
        }
      ]
    },
    {
      "cell_type": "code",
      "source": [
        "import pandas as pd\n",
        "from sklearn.linear_model import LinearRegression\n",
        "from sklearn.metrics import mean_squared_error\n",
        "from scipy.stats import zscore\n",
        "from sklearn.ensemble import IsolationForest"
      ],
      "metadata": {
        "id": "uhyVs6DhonXI"
      },
      "execution_count": null,
      "outputs": []
    },
    {
      "cell_type": "code",
      "source": [
        "# Anomaly Detection using Z-score\n",
        "merged_df['zscore_temp'] = zscore(merged_df['value_temp'])\n",
        "merged_df['zscore_humidity'] = zscore(merged_df['value_humidity'])\n",
        "anomaly_threshold = 3  # Adjust the threshold as needed\n",
        "anomalies = merged_df[(abs(merged_df['zscore_temp']) > anomaly_threshold) | (abs(merged_df['zscore_humidity']) > anomaly_threshold)]\n"
      ],
      "metadata": {
        "id": "qnZfgi3dpbhO"
      },
      "execution_count": null,
      "outputs": []
    },
    {
      "cell_type": "code",
      "source": [
        "# Anomaly Detection using Isolation Forest\n",
        "isolation_forest = IsolationForest(contamination=0.05)\n",
        "isolation_forest.fit(X_train) # Adjust the contamination parameter as needed\n",
        "isolation_forest.fit(merged_df[['value_temp', 'value_humidity']])\n",
        "merged_df['anomaly'] = isolation_forest.predict(merged_df[['value_temp', 'value_humidity']])\n",
        "anomalies_isolation_forest = merged_df[merged_df['anomaly'] == -1]"
      ],
      "metadata": {
        "colab": {
          "base_uri": "https://localhost:8080/"
        },
        "id": "bKUwedjfqKlW",
        "outputId": "93260ac8-cc28-404f-b53b-c9804280b7d0"
      },
      "execution_count": null,
      "outputs": [
        {
          "output_type": "stream",
          "name": "stderr",
          "text": [
            "/usr/local/lib/python3.10/dist-packages/sklearn/base.py:439: UserWarning: X does not have valid feature names, but IsolationForest was fitted with feature names\n",
            "  warnings.warn(\n",
            "/usr/local/lib/python3.10/dist-packages/sklearn/base.py:439: UserWarning: X does not have valid feature names, but IsolationForest was fitted with feature names\n",
            "  warnings.warn(\n"
          ]
        }
      ]
    },
    {
      "cell_type": "code",
      "source": [
        "anomalies = isolation_forest.predict(X_train)"
      ],
      "metadata": {
        "id": "zpEf7UpDqiaL"
      },
      "execution_count": null,
      "outputs": []
    },
    {
      "cell_type": "code",
      "source": [
        "# Print anomalies\n",
        "print(\"Anomalies:\")\n",
        "print(anomalies)"
      ],
      "metadata": {
        "colab": {
          "base_uri": "https://localhost:8080/"
        },
        "id": "kyjGda65rOI9",
        "outputId": "fb61db06-bc6d-4f2a-d9bf-46a496ffb426"
      },
      "execution_count": null,
      "outputs": [
        {
          "output_type": "stream",
          "name": "stdout",
          "text": [
            "Anomalies:\n",
            "[1 1]\n"
          ]
        }
      ]
    },
    {
      "cell_type": "code",
      "source": [
        "print(\"Anomalies (Z-score method):\")\n",
        "print(anomalies)\n",
        "print(\"\\nAnomalies (Isolation Forest method):\")\n",
        "print(anomalies_isolation_forest)\n",
        "# print(\"\\nCyclone Probability:\", cyclone_probability)"
      ],
      "metadata": {
        "colab": {
          "base_uri": "https://localhost:8080/"
        },
        "id": "OyZeBto0riYa",
        "outputId": "36310a91-4afb-4c65-9282-6fc96411543e"
      },
      "execution_count": null,
      "outputs": [
        {
          "output_type": "stream",
          "name": "stdout",
          "text": [
            "Anomalies (Z-score method):\n",
            "[1 1]\n",
            "\n",
            "Anomalies (Isolation Forest method):\n",
            "   created_at  id_temp  value_temp  id_humidity  value_humidity  zscore_temp  \\\n",
            "0  2023-04-01        1          20            4              50    -1.224745   \n",
            "\n",
            "   zscore_humidity  anomaly  \n",
            "0        -1.224745       -1  \n"
          ]
        }
      ]
    }
  ]
}